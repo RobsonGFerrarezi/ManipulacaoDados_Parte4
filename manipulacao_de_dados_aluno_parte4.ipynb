{
  "cells": [
    {
      "cell_type": "markdown",
      "metadata": {
        "id": "view-in-github",
        "colab_type": "text"
      },
      "source": [
        "<a href=\"https://colab.research.google.com/github/RobsonGFerrarezi/ManipulacaoDados_Parte4/blob/main/manipulacao_de_dados_aluno_parte4.ipynb\" target=\"_parent\"><img src=\"https://colab.research.google.com/assets/colab-badge.svg\" alt=\"Open In Colab\"/></a>"
      ]
    },
    {
      "cell_type": "markdown",
      "id": "changing-combine",
      "metadata": {
        "id": "changing-combine"
      },
      "source": [
        "<a rel=\"license\" href=\"https://faculdadesalvadorarena.org.br/\"><img alt=\"FESA\" style=\"border-width:0\" src=\"https://faculdadesalvadorarena.org.br/wp-content/uploads/2022/07/logo_fesa.png\" /></a><br />\n",
        "**FESA - Eletiva II (2025.1)** <br/>\n",
        "\n",
        "Aluno(a): Robson Guilherme Ferrarezi <br/>\n",
        "Data: 12/04/2025 <br/>"
      ]
    },
    {
      "cell_type": "code",
      "execution_count": null,
      "id": "backed-twenty",
      "metadata": {
        "id": "backed-twenty"
      },
      "outputs": [],
      "source": [
        "# pacotes usados neste notebook\n",
        "import pandas as pd"
      ]
    },
    {
      "cell_type": "markdown",
      "id": "tracked-shakespeare",
      "metadata": {
        "id": "tracked-shakespeare"
      },
      "source": [
        "#Manipulação de Dados com Pandas"
      ]
    },
    {
      "cell_type": "markdown",
      "id": "federal-vinyl",
      "metadata": {
        "id": "federal-vinyl"
      },
      "source": [
        "##1. Manipulação Básica de Datasets"
      ]
    },
    {
      "cell_type": "markdown",
      "id": "optimum-season",
      "metadata": {
        "id": "optimum-season"
      },
      "source": [
        "**Dataset**: Gas Prices in Brazil: https://www.kaggle.com/matheusfreitag/gas-prices-in-brazil <br/>\n",
        "\n",
        "Este dataset contém os **registros dos preços médios semanais dos combustíveis do Brasil entre os anos de 2004 e 2021**. <br/>\n",
        "Cada *amostra (registro/linha/observação)* consiste em um registro de preço aferido para um dado tipo de combustível em uma dada localidade do Brasil. <br/>\n",
        "Alguns dos principais *atributos* (colunas) do dataset são: 'ESTADO', 'PRODUTO', 'NÚMERO DE POSTOS PESQUISADOS', 'PREÇO MÉDIO REVENDA'."
      ]
    },
    {
      "cell_type": "markdown",
      "id": "aggregate-provision",
      "metadata": {
        "id": "aggregate-provision"
      },
      "source": [
        "### 1.1. Importando o Dataset\n",
        "Para carregar um dataset no formato tsv, basta utilizar a função `read_csv` do pandas. Por padrão, ela considera _','_ como separador."
      ]
    },
    {
      "cell_type": "code",
      "execution_count": null,
      "id": "medieval-strain",
      "metadata": {
        "id": "medieval-strain"
      },
      "outputs": [],
      "source": [
        "df = pd.read_csv('/content/2004-2021.tsv', sep='\\t')"
      ]
    },
    {
      "cell_type": "code",
      "source": [
        "df"
      ],
      "metadata": {
        "id": "QdykfyU8a6ua"
      },
      "id": "QdykfyU8a6ua",
      "execution_count": null,
      "outputs": []
    },
    {
      "cell_type": "markdown",
      "id": "accurate-pension",
      "metadata": {
        "id": "accurate-pension"
      },
      "source": [
        "O dataset não foi carregado corretamente pois o separador utilizado seu arquivo CSV era '\\t' (tab) e não a ','. <br/>\n",
        "Vamos então carregá-lo corretamente:"
      ]
    },
    {
      "cell_type": "code",
      "execution_count": null,
      "id": "sorted-martin",
      "metadata": {
        "id": "sorted-martin"
      },
      "outputs": [],
      "source": [
        "# carregando o dataset corretamente ==> neste caso, usa o separador '\\t' (tab)\n",
        "df = pd.read_csv('/content/2004-2021.tsv', sep='\\t')"
      ]
    },
    {
      "cell_type": "code",
      "source": [
        "df"
      ],
      "metadata": {
        "id": "EKcVw8lodQXZ"
      },
      "id": "EKcVw8lodQXZ",
      "execution_count": null,
      "outputs": []
    },
    {
      "cell_type": "markdown",
      "id": "greater-harvest",
      "metadata": {
        "id": "greater-harvest"
      },
      "source": [
        "### 1.2. Exibindo as primeiras linhas do Dataset\n",
        "A função `.head()` exibe as 5 primeiras linhas do dataset/tabela/Data Frame."
      ]
    },
    {
      "cell_type": "code",
      "execution_count": null,
      "id": "continued-isaac",
      "metadata": {
        "id": "continued-isaac"
      },
      "outputs": [],
      "source": [
        "df.head()"
      ]
    },
    {
      "cell_type": "code",
      "execution_count": null,
      "id": "selective-danish",
      "metadata": {
        "id": "selective-danish"
      },
      "outputs": [],
      "source": [
        "# exibe as 10 primeiras linhas do dataframe\n",
        "df.head(10)"
      ]
    },
    {
      "cell_type": "markdown",
      "id": "naval-relation",
      "metadata": {
        "id": "naval-relation"
      },
      "source": [
        "### 1.3 Informações do Dataset e Elementos Chave"
      ]
    },
    {
      "cell_type": "markdown",
      "id": "southern-collaboration",
      "metadata": {
        "id": "southern-collaboration"
      },
      "source": [
        "### 1.3.1 Informações gerais sobre o Dataset"
      ]
    },
    {
      "cell_type": "code",
      "execution_count": null,
      "id": "abstract-component",
      "metadata": {
        "id": "abstract-component"
      },
      "outputs": [],
      "source": [
        "df.info()"
      ]
    },
    {
      "cell_type": "markdown",
      "id": "expressed-amber",
      "metadata": {
        "id": "expressed-amber"
      },
      "source": [
        "Aparentemente, nenhum atributo/coluna possui valores nulos (_null_), uma vez que o número de registros do dataframe e os números de valores _non-null_ é de **120823**. <br/>\n",
        "Mas, veremos que não é bem assim para esse caso. <br/>\n",
        "Além disso, note que alguns atributos/colunas, p. ex., 'PREÇO MÉDIO DISTRIBUIÇÃO', possui tipo de dado `object` ao invés de `float`. Esse `object`, no geral, representa strings. Isso parece estranho e suspeito. Veremos se isso é problemático mais pra frente."
      ]
    },
    {
      "cell_type": "markdown",
      "id": "nasty-singing",
      "metadata": {
        "id": "nasty-singing"
      },
      "source": [
        "### 1.3.2 Data Frame\n",
        "Todo dataset carregado (dados estruturados) é um `Data Frame`: 'Tabela' bi-dimensional, de tamanho mutável, com dados potencialmente heterogêneos. <br/>"
      ]
    },
    {
      "cell_type": "code",
      "execution_count": null,
      "id": "micro-progress",
      "metadata": {
        "id": "micro-progress"
      },
      "outputs": [],
      "source": [
        "type(df)"
      ]
    },
    {
      "cell_type": "markdown",
      "id": "educated-fourth",
      "metadata": {
        "id": "educated-fourth"
      },
      "source": [
        "Podemos acessar as **dimensões do Data Frame** (número de linhas x número de colunas) utilizando o atributo `.shape` do Data Frame."
      ]
    },
    {
      "cell_type": "code",
      "execution_count": null,
      "id": "detected-prediction",
      "metadata": {
        "id": "detected-prediction"
      },
      "outputs": [],
      "source": [
        "df.shape"
      ]
    },
    {
      "cell_type": "code",
      "execution_count": null,
      "id": "fallen-distance",
      "metadata": {
        "id": "fallen-distance"
      },
      "outputs": [],
      "source": [
        "print(f'O DataFrame possui {df.shape[0]} linhas/observações/registros e {df.shape[1]} colunas/atributos/variáveis.')"
      ]
    },
    {
      "cell_type": "markdown",
      "id": "binary-sussex",
      "metadata": {
        "id": "binary-sussex"
      },
      "source": [
        "#### **Criando um DataFrame**\n",
        "\n",
        "Podemos criar um DataFrame a partir de um _dicionário_, onde cada **chave** possui uma **lista de elementos de igual tamanho**.<br/>\n",
        "As **chaves** representam as **colunas** e **cada um dos valores de sua lista** representa o **valor da linha** correspondente para aquela coluna."
      ]
    },
    {
      "cell_type": "code",
      "execution_count": null,
      "id": "beneficial-passport",
      "metadata": {
        "id": "beneficial-passport"
      },
      "outputs": [],
      "source": [
        "personagens_df = pd.DataFrame({\n",
        "    'Nome': ['Luke Skywalker', 'Yoda', 'Palpatine'],\n",
        "    'idade': [16, 1000, 70],\n",
        "    'Peso': [70.5, 15.2, 60.1],\n",
        "    'Eh jedi': [True, True, False]  # o nome das colunas podem ter espaços\n",
        "})"
      ]
    },
    {
      "cell_type": "code",
      "execution_count": null,
      "id": "great-relief",
      "metadata": {
        "id": "great-relief"
      },
      "outputs": [],
      "source": [
        "personagens_df"
      ]
    },
    {
      "cell_type": "code",
      "source": [
        "personagens_df.info()"
      ],
      "metadata": {
        "id": "wxfG6kRChU8Q"
      },
      "id": "wxfG6kRChU8Q",
      "execution_count": null,
      "outputs": []
    },
    {
      "cell_type": "markdown",
      "id": "elegant-profit",
      "metadata": {
        "id": "elegant-profit"
      },
      "source": [
        "#### **VEJA MAIS**\n",
        "Criando um Data Frame a partir de um dicionário: https://www.geeksforgeeks.org/how-to-create-dataframe-from-dictionary-in-python-pandas/"
      ]
    },
    {
      "cell_type": "markdown",
      "id": "laden-trance",
      "metadata": {
        "id": "laden-trance"
      },
      "source": [
        "#### **Renomeando as colunas de um DataFrame**\n",
        "**===>** O método `DataFrame.columns` retorna uma \"lista\" com os **nomes de todas as colunas** do data frame."
      ]
    },
    {
      "cell_type": "code",
      "execution_count": null,
      "id": "impaired-spain",
      "metadata": {
        "id": "impaired-spain"
      },
      "outputs": [],
      "source": [
        "personagens_df.columns"
      ]
    },
    {
      "cell_type": "code",
      "execution_count": null,
      "id": "detected-ceramic",
      "metadata": {
        "id": "detected-ceramic"
      },
      "outputs": [],
      "source": [
        "type(personagens_df.columns)"
      ]
    },
    {
      "cell_type": "code",
      "execution_count": null,
      "id": "conditional-password",
      "metadata": {
        "id": "conditional-password"
      },
      "outputs": [],
      "source": [
        "list(personagens_df.columns)"
      ]
    },
    {
      "cell_type": "markdown",
      "id": "geographic-wages",
      "metadata": {
        "id": "geographic-wages"
      },
      "source": [
        "<br/>\n",
        "\n",
        "**===>** Para **renomear colunas** do data frame, utilize o método `DataFrame.rename`, que retorna uma _cópia_ do data frame com as as colunas renomeadas:"
      ]
    },
    {
      "cell_type": "code",
      "execution_count": null,
      "id": "adopted-charlotte",
      "metadata": {
        "id": "adopted-charlotte"
      },
      "outputs": [],
      "source": [
        "personagens_df"
      ]
    },
    {
      "cell_type": "code",
      "execution_count": null,
      "id": "infinite-christian",
      "metadata": {
        "id": "infinite-christian"
      },
      "outputs": [],
      "source": [
        "dic = {'idade': 'Idade', 'Peso': 'Peso (kg)'}\n",
        "personagens_df_renomeado = personagens_df.rename(columns=dic)"
      ]
    },
    {
      "cell_type": "code",
      "execution_count": null,
      "id": "violent-inspector",
      "metadata": {
        "id": "violent-inspector"
      },
      "outputs": [],
      "source": [
        "personagens_df_renomeado"
      ]
    },
    {
      "cell_type": "code",
      "execution_count": null,
      "id": "homeless-sound",
      "metadata": {
        "id": "homeless-sound"
      },
      "outputs": [],
      "source": [
        "personagens_df"
      ]
    },
    {
      "cell_type": "markdown",
      "id": "personalized-belize",
      "metadata": {
        "id": "personalized-belize"
      },
      "source": [
        "Para renomear o _próprio_ data frame em questão, utilize o parâmetro `inplace=True`:"
      ]
    },
    {
      "cell_type": "code",
      "execution_count": null,
      "id": "nonprofit-missouri",
      "metadata": {
        "id": "nonprofit-missouri"
      },
      "outputs": [],
      "source": [
        "personagens_df.rename(columns=dic, inplace=True)"
      ]
    },
    {
      "cell_type": "code",
      "execution_count": null,
      "id": "nervous-placement",
      "metadata": {
        "id": "nervous-placement"
      },
      "outputs": [],
      "source": [
        "personagens_df"
      ]
    },
    {
      "cell_type": "markdown",
      "id": "prompt-childhood",
      "metadata": {
        "id": "prompt-childhood"
      },
      "source": [
        "<br/>\n",
        "\n",
        "**===>** Uma outra forma de **renomear todas as colunas** de um data frame é passar uma _lista_ com os novos nomes das colunas para o atributo `DataFrame.columns`:"
      ]
    },
    {
      "cell_type": "code",
      "execution_count": null,
      "id": "bright-procurement",
      "metadata": {
        "id": "bright-procurement"
      },
      "outputs": [],
      "source": [
        "personagens_df.columns"
      ]
    },
    {
      "cell_type": "code",
      "execution_count": null,
      "id": "operational-authority",
      "metadata": {
        "id": "operational-authority"
      },
      "outputs": [],
      "source": [
        "personagens_df.columns = ['NOME', 'IDADE', 'PESO (KG)', 'EH JEDI?']"
      ]
    },
    {
      "cell_type": "code",
      "execution_count": null,
      "id": "authorized-indicator",
      "metadata": {
        "id": "authorized-indicator"
      },
      "outputs": [],
      "source": [
        "personagens_df"
      ]
    },
    {
      "cell_type": "markdown",
      "id": "lonely-sister",
      "metadata": {
        "id": "lonely-sister"
      },
      "source": [
        "### 1.3.3 Series"
      ]
    },
    {
      "cell_type": "markdown",
      "id": "cheap-dressing",
      "metadata": {
        "id": "cheap-dressing"
      },
      "source": [
        "Array uni-dimensional com os dados e rótulos de um eixo."
      ]
    },
    {
      "cell_type": "code",
      "execution_count": null,
      "id": "bacterial-country",
      "metadata": {
        "id": "bacterial-country"
      },
      "outputs": [],
      "source": [
        "df.head()"
      ]
    },
    {
      "cell_type": "code",
      "execution_count": null,
      "id": "incorrect-moment",
      "metadata": {
        "id": "incorrect-moment"
      },
      "outputs": [],
      "source": [
        "# selecionando uma coluna inteira\n",
        "df['ESTADO']"
      ]
    },
    {
      "cell_type": "code",
      "execution_count": null,
      "id": "conscious-fountain",
      "metadata": {
        "id": "conscious-fountain"
      },
      "outputs": [],
      "source": [
        "# selecionando uma coluna inteira\n",
        "# esta forma de acesso, só funciona para colunas com nomes sem espaços, acentos, etc\n",
        "df.ESTADO"
      ]
    },
    {
      "cell_type": "code",
      "execution_count": null,
      "id": "direct-convenience",
      "metadata": {
        "id": "direct-convenience"
      },
      "outputs": [],
      "source": [
        "type(df['ESTADO'])"
      ]
    },
    {
      "cell_type": "code",
      "execution_count": null,
      "id": "average-final",
      "metadata": {
        "id": "average-final"
      },
      "outputs": [],
      "source": [
        "# selecionando a observação indexada no índice [1] do dataframe\n",
        "df.iloc[1]"
      ]
    },
    {
      "cell_type": "code",
      "execution_count": null,
      "id": "sensitive-clerk",
      "metadata": {
        "id": "sensitive-clerk"
      },
      "outputs": [],
      "source": [
        "type(df.iloc[1])"
      ]
    },
    {
      "cell_type": "markdown",
      "id": "ready-brook",
      "metadata": {
        "id": "ready-brook"
      },
      "source": [
        "#### **Criando uma Series**\n",
        "\n",
        "Podemos criar uma Series a partir de uma lista de elementos."
      ]
    },
    {
      "cell_type": "code",
      "execution_count": null,
      "id": "acoustic-container",
      "metadata": {
        "id": "acoustic-container"
      },
      "outputs": [],
      "source": [
        "pd.Series([5.5, 6.0, 9.5])"
      ]
    },
    {
      "cell_type": "markdown",
      "id": "european-ministry",
      "metadata": {
        "id": "european-ministry"
      },
      "source": [
        "Podemos alterar o **nome dos índices** e o **nome da Series** (o que ela representa):"
      ]
    },
    {
      "cell_type": "code",
      "execution_count": null,
      "id": "motivated-warning",
      "metadata": {
        "id": "motivated-warning"
      },
      "outputs": [],
      "source": [
        "pd.Series([5.5, 6.0, 9.5], index=['prova 1', 'prova 2', 'projeto'], name='Notas dos Luke Skywalker')"
      ]
    },
    {
      "cell_type": "markdown",
      "id": "deadly-prince",
      "metadata": {
        "id": "deadly-prince"
      },
      "source": [
        "#### **VEJA MAIS**\n",
        "https://pandas.pydata.org/pandas-docs/stable/user_guide/dsintro.html"
      ]
    },
    {
      "cell_type": "markdown",
      "id": "insured-turkey",
      "metadata": {
        "id": "insured-turkey"
      },
      "source": [
        "### 1.3.4 Atribuindo Dados"
      ]
    },
    {
      "cell_type": "code",
      "source": [
        "df.head()"
      ],
      "metadata": {
        "id": "wrLJvmMAs2CK"
      },
      "id": "wrLJvmMAs2CK",
      "execution_count": null,
      "outputs": []
    },
    {
      "cell_type": "markdown",
      "id": "smooth-tuesday",
      "metadata": {
        "id": "smooth-tuesday"
      },
      "source": [
        "#### 1.3.4.1 Atribuindo constantes"
      ]
    },
    {
      "cell_type": "code",
      "source": [
        "produto_copy_bkp = df['PRODUTO'].copy()  # retorna uma cópia da coluna 'PRODUTO'\n",
        "produto_copy_bkp"
      ],
      "metadata": {
        "id": "6VqsYtyWwaAy"
      },
      "id": "6VqsYtyWwaAy",
      "execution_count": null,
      "outputs": []
    },
    {
      "cell_type": "code",
      "execution_count": null,
      "id": "connected-lambda",
      "metadata": {
        "id": "connected-lambda"
      },
      "outputs": [],
      "source": [
        "df['PRODUTO'] = 'Combustível'  # atribuindo o valor constante 'Combustível' para linha do dataframe na coluna 'PRODUTO'"
      ]
    },
    {
      "cell_type": "code",
      "execution_count": null,
      "id": "danish-thumbnail",
      "metadata": {
        "id": "danish-thumbnail"
      },
      "outputs": [],
      "source": [
        "df.head()"
      ]
    },
    {
      "cell_type": "markdown",
      "id": "mental-logistics",
      "metadata": {
        "id": "mental-logistics"
      },
      "source": [
        "#### 1.3.4.2 Atribuindo listas ou series"
      ]
    },
    {
      "cell_type": "code",
      "execution_count": null,
      "id": "cordless-nursing",
      "metadata": {
        "id": "cordless-nursing"
      },
      "outputs": [],
      "source": [
        "nrows, ncols = df.shape\n",
        "nrows, ncols"
      ]
    },
    {
      "cell_type": "code",
      "execution_count": null,
      "id": "trained-particular",
      "metadata": {
        "id": "trained-particular"
      },
      "outputs": [],
      "source": [
        "novos_produtos = [f'Produto {i}' for i in range(nrows)]\n",
        "len(novos_produtos)"
      ]
    },
    {
      "cell_type": "code",
      "execution_count": null,
      "id": "conservative-above",
      "metadata": {
        "id": "conservative-above"
      },
      "outputs": [],
      "source": [
        "# a quantidade de elementos da lista `novos_produtos` é igual ao número de linhas do dataframe\n",
        "df['PRODUTO'] = novos_produtos"
      ]
    },
    {
      "cell_type": "code",
      "execution_count": null,
      "id": "transparent-service",
      "metadata": {
        "id": "transparent-service"
      },
      "outputs": [],
      "source": [
        "df"
      ]
    },
    {
      "cell_type": "code",
      "execution_count": null,
      "id": "musical-corpus",
      "metadata": {
        "id": "musical-corpus"
      },
      "outputs": [],
      "source": [
        "# voltando para os produtos originais\n",
        "df['PRODUTO'] = produto_copy_bkp  # produto_copy_bkp é uma Series"
      ]
    },
    {
      "cell_type": "code",
      "source": [
        "df"
      ],
      "metadata": {
        "id": "ze7Q8kOdwuYT"
      },
      "id": "ze7Q8kOdwuYT",
      "execution_count": null,
      "outputs": []
    },
    {
      "cell_type": "markdown",
      "id": "positive-neutral",
      "metadata": {
        "id": "positive-neutral"
      },
      "source": [
        "#### 1.3.4.3 Criando novas colunas\n",
        "Para **criar uma nova coluna** em um data frame, basta atribuirmos uma _lista/Series de valores_ a uma **nova 'chave'** do data frame. <br/>\n",
        "\n",
        "**PS:** A _quantidade de valores_ da lista precisa ser **igual** ao _número de linhas/registros_ do data frame."
      ]
    },
    {
      "cell_type": "code",
      "execution_count": null,
      "id": "dense-background",
      "metadata": {
        "id": "dense-background"
      },
      "outputs": [],
      "source": [
        "# criando uma coluna a partir de um valor constante/default\n",
        "# todas as linhas terão o mesmo valor para esta nova coluna\n",
        "df['coluna sem nocao'] = 'DEFAULT'\n",
        "df"
      ]
    },
    {
      "cell_type": "code",
      "execution_count": null,
      "id": "neither-disposal",
      "metadata": {
        "id": "neither-disposal"
      },
      "outputs": [],
      "source": [
        "df['coluna a partir de lista'] = range(df.shape[0])"
      ]
    },
    {
      "cell_type": "code",
      "execution_count": null,
      "id": "electrical-extreme",
      "metadata": {
        "id": "electrical-extreme"
      },
      "outputs": [],
      "source": [
        "df"
      ]
    },
    {
      "cell_type": "code",
      "source": [
        "# não funciona porque a quantidade de elementos da lista (a serem atribuídos a nova coluna) é diferente\n",
        "# da quantidade de linhas do dataframe\n",
        "#df['nao funciona'] = [1, 2, 3]"
      ],
      "metadata": {
        "id": "yPCcWfGVyBLc"
      },
      "id": "yPCcWfGVyBLc",
      "execution_count": null,
      "outputs": []
    },
    {
      "cell_type": "code",
      "source": [
        "personagens_df"
      ],
      "metadata": {
        "id": "f7diMx5PyBXi"
      },
      "id": "f7diMx5PyBXi",
      "execution_count": null,
      "outputs": []
    },
    {
      "cell_type": "code",
      "source": [
        "personagens_df['COR DO SABRE DE LUZ'] = ['Azul', 'Verde', 'Vermelho']"
      ],
      "metadata": {
        "id": "uKQ-s-DUyPZS"
      },
      "id": "uKQ-s-DUyPZS",
      "execution_count": null,
      "outputs": []
    },
    {
      "cell_type": "code",
      "source": [
        "personagens_df"
      ],
      "metadata": {
        "id": "aIsVtvd7yeIS"
      },
      "id": "aIsVtvd7yeIS",
      "execution_count": null,
      "outputs": []
    },
    {
      "cell_type": "markdown",
      "id": "protected-advertiser",
      "metadata": {
        "id": "protected-advertiser"
      },
      "source": [
        "<br/>\n",
        "\n",
        "Outro exemplo:"
      ]
    },
    {
      "cell_type": "code",
      "execution_count": null,
      "id": "restricted-potential",
      "metadata": {
        "id": "restricted-potential"
      },
      "outputs": [],
      "source": [
        "df.head()"
      ]
    },
    {
      "cell_type": "code",
      "execution_count": null,
      "id": "single-batman",
      "metadata": {
        "id": "single-batman"
      },
      "outputs": [],
      "source": [
        "\n",
        "df['PREÇO MÉDIO REVENDA (dólares)'] = df['PREÇO MÉDIO REVENDA'] / 5.75"
      ]
    },
    {
      "cell_type": "code",
      "source": [
        "df"
      ],
      "metadata": {
        "id": "FeFvcKv-y8OY"
      },
      "id": "FeFvcKv-y8OY",
      "execution_count": null,
      "outputs": []
    },
    {
      "cell_type": "markdown",
      "id": "artificial-ecuador",
      "metadata": {
        "id": "artificial-ecuador"
      },
      "source": [
        "### 1.3.4 Índices"
      ]
    },
    {
      "cell_type": "markdown",
      "id": "foreign-husband",
      "metadata": {
        "id": "foreign-husband"
      },
      "source": [
        "Todo Data Frame possui **índices**, que não são considerado colunas da tabela. Tais índices são comumente **númericos**, de 0 a num_linhas-1, mas também podem ser **textuais (rótulos/labels)**."
      ]
    },
    {
      "cell_type": "code",
      "execution_count": null,
      "id": "alternative-columbus",
      "metadata": {
        "id": "alternative-columbus"
      },
      "outputs": [],
      "source": [
        "df"
      ]
    },
    {
      "cell_type": "code",
      "execution_count": null,
      "id": "statistical-uganda",
      "metadata": {
        "id": "statistical-uganda"
      },
      "outputs": [],
      "source": [
        "df.index"
      ]
    },
    {
      "cell_type": "markdown",
      "id": "absolute-fourth",
      "metadata": {
        "id": "absolute-fourth"
      },
      "source": [
        "Use `list(data.index)` ou `data.index.to_list()` para converter um RangeIndex para uma python list."
      ]
    },
    {
      "cell_type": "markdown",
      "id": "nonprofit-latino",
      "metadata": {
        "id": "nonprofit-latino"
      },
      "source": [
        "#### **Exemplo de Data Frame com Índices Textuais (labels)**"
      ]
    },
    {
      "cell_type": "code",
      "execution_count": null,
      "id": "precious-judges",
      "metadata": {
        "id": "precious-judges"
      },
      "outputs": [],
      "source": [
        "pesquisa_de_satisfacao = pd.DataFrame({\n",
        "    'bom': [50, 21, 100],\n",
        "    'ruim': [131, 2, 30],\n",
        "    'pessimo': [30, 20, 1]\n",
        "}, index=['Xbox One', 'Playstation4', 'Switch'])"
      ]
    },
    {
      "cell_type": "code",
      "execution_count": null,
      "id": "enhanced-prompt",
      "metadata": {
        "id": "enhanced-prompt"
      },
      "outputs": [],
      "source": [
        "pesquisa_de_satisfacao.head()"
      ]
    },
    {
      "cell_type": "code",
      "source": [
        "pesquisa_de_satisfacao.index"
      ],
      "metadata": {
        "id": "RVdij7ei0Lwh"
      },
      "id": "RVdij7ei0Lwh",
      "execution_count": null,
      "outputs": []
    },
    {
      "cell_type": "markdown",
      "id": "sixth-supplement",
      "metadata": {
        "id": "sixth-supplement"
      },
      "source": [
        "### 1.4 Selecionando uma ou mais observações (Indexação)"
      ]
    },
    {
      "cell_type": "markdown",
      "id": "buried-headquarters",
      "metadata": {
        "id": "buried-headquarters"
      },
      "source": [
        "#### **==>  Index-based selection (seleção baseada em Índices)**\n",
        "Mostrando linhas específicas de um DataFrame:\n",
        "\n",
        "`iloc`: seleciona elementos do Dataframe, baseado em seu **índice (número)** --> row-first, column-second"
      ]
    },
    {
      "cell_type": "markdown",
      "id": "inclusive-magnet",
      "metadata": {
        "id": "inclusive-magnet"
      },
      "source": [
        "**Selecionando uma observação/linha:**"
      ]
    },
    {
      "cell_type": "code",
      "source": [
        "df"
      ],
      "metadata": {
        "id": "WwMX6bSHBctO"
      },
      "id": "WwMX6bSHBctO",
      "execution_count": null,
      "outputs": []
    },
    {
      "cell_type": "code",
      "execution_count": null,
      "id": "bored-roberts",
      "metadata": {
        "id": "bored-roberts"
      },
      "outputs": [],
      "source": [
        "df.iloc[1]"
      ]
    },
    {
      "cell_type": "markdown",
      "id": "regional-spank",
      "metadata": {
        "id": "regional-spank"
      },
      "source": [
        "**Selecionando múltiplias amostras/linhas:**"
      ]
    },
    {
      "cell_type": "code",
      "execution_count": null,
      "id": "framed-julian",
      "metadata": {
        "id": "framed-julian"
      },
      "outputs": [],
      "source": [
        "# selecionando as linhas de índice de 0 a 5 (incluso)\n",
        "df.iloc[:6]"
      ]
    },
    {
      "cell_type": "code",
      "execution_count": null,
      "id": "fallen-palace",
      "metadata": {
        "id": "fallen-palace"
      },
      "outputs": [],
      "source": [
        "# selecionando as linhas de índice 10 a 15 (incluso)\n",
        "df.iloc[10:16]"
      ]
    },
    {
      "cell_type": "code",
      "execution_count": null,
      "id": "varying-patrol",
      "metadata": {
        "id": "varying-patrol"
      },
      "outputs": [],
      "source": [
        "# selecionando as linhas de índice 1, 5, 10 e 15\n",
        "df.iloc[[1, 5, 10, 15]]"
      ]
    },
    {
      "cell_type": "code",
      "execution_count": null,
      "id": "numerical-robinson",
      "metadata": {
        "id": "numerical-robinson"
      },
      "outputs": [],
      "source": [
        "# selecionando as linhas de índice 5, 1, 15 e 10\n",
        "df.iloc[[5, 1, 15, 10]]"
      ]
    },
    {
      "cell_type": "code",
      "execution_count": null,
      "id": "olive-plain",
      "metadata": {
        "id": "olive-plain"
      },
      "outputs": [],
      "source": [
        "df.iloc[5, 5]"
      ]
    },
    {
      "cell_type": "code",
      "execution_count": null,
      "id": "settled-sunglasses",
      "metadata": {
        "id": "settled-sunglasses"
      },
      "outputs": [],
      "source": [
        "# e assim por diante!"
      ]
    },
    {
      "cell_type": "markdown",
      "id": "extended-helping",
      "metadata": {
        "id": "extended-helping"
      },
      "source": [
        "#### **==>  Label-based selection (seleção baseadas em Rótulos)**\n",
        "\n",
        "`loc`: seleciona elementos do Dataframe, baseado em seus **rótulos** --> row-first, column-second"
      ]
    },
    {
      "cell_type": "code",
      "execution_count": null,
      "id": "packed-unemployment",
      "metadata": {
        "id": "packed-unemployment"
      },
      "outputs": [],
      "source": [
        "pesquisa_de_satisfacao"
      ]
    },
    {
      "cell_type": "code",
      "execution_count": null,
      "id": "blank-defeat",
      "metadata": {
        "id": "blank-defeat"
      },
      "outputs": [],
      "source": [
        "# retorna a linha cujo rótulo é 'Xbox One'\n",
        "pesquisa_de_satisfacao.loc['Xbox One']"
      ]
    },
    {
      "cell_type": "code",
      "execution_count": null,
      "id": "personalized-southeast",
      "metadata": {
        "id": "personalized-southeast"
      },
      "outputs": [],
      "source": [
        "# retorna a linha de índice 0 (implícito)\n",
        "pesquisa_de_satisfacao.iloc[0]"
      ]
    },
    {
      "cell_type": "code",
      "execution_count": null,
      "id": "dutch-proportion",
      "metadata": {
        "id": "dutch-proportion"
      },
      "outputs": [],
      "source": [
        "pesquisa_de_satisfacao.iloc[1,1]"
      ]
    },
    {
      "cell_type": "code",
      "execution_count": null,
      "id": "instrumental-automation",
      "metadata": {
        "id": "instrumental-automation"
      },
      "outputs": [],
      "source": [
        "# NÃO FUNCIONA\n",
        "#pesquisa_de_satisfacao.iloc['Xbox One']"
      ]
    },
    {
      "cell_type": "code",
      "execution_count": null,
      "id": "statewide-being",
      "metadata": {
        "id": "statewide-being"
      },
      "outputs": [],
      "source": [
        "# NÃO FUNCIONA\n",
        "#pesquisa_de_satisfacao.loc[0]"
      ]
    },
    {
      "cell_type": "code",
      "execution_count": null,
      "id": "sublime-berry",
      "metadata": {
        "id": "sublime-berry"
      },
      "outputs": [],
      "source": [
        "pesquisa_de_satisfacao.loc['Playstation4','ruim']"
      ]
    },
    {
      "cell_type": "code",
      "execution_count": null,
      "id": "united-bulgarian",
      "metadata": {
        "id": "united-bulgarian"
      },
      "outputs": [],
      "source": [
        "# seleção direta das colunas\n",
        "pesquisa_de_satisfacao[['bom', 'pessimo']]"
      ]
    },
    {
      "cell_type": "code",
      "execution_count": null,
      "id": "played-oxide",
      "metadata": {
        "id": "played-oxide"
      },
      "outputs": [],
      "source": [
        "# outra forma de selecionar colunas com o .loc\n",
        "pesquisa_de_satisfacao.loc[:, ['bom', 'pessimo']]"
      ]
    },
    {
      "cell_type": "markdown",
      "source": [
        "### 1.5 Selecionando um ou mais atributos (colunas)"
      ],
      "metadata": {
        "id": "PueLpnGBo0ac"
      },
      "id": "PueLpnGBo0ac"
    },
    {
      "cell_type": "code",
      "source": [
        "df.head()"
      ],
      "metadata": {
        "id": "xRJq-ma3rmSu"
      },
      "id": "xRJq-ma3rmSu",
      "execution_count": null,
      "outputs": []
    },
    {
      "cell_type": "code",
      "source": [
        "# forma 1\n",
        "df['ESTADO']"
      ],
      "metadata": {
        "id": "WIT5AKbNrsNB",
        "collapsed": true
      },
      "id": "WIT5AKbNrsNB",
      "execution_count": null,
      "outputs": []
    },
    {
      "cell_type": "code",
      "source": [
        "# forma 2, porém\n",
        "# só funciona se o NOME_DA_COLUNA não possuir espaços, acentuação, etc\n",
        "df.ESTADO"
      ],
      "metadata": {
        "id": "4RdPCttcsFyi"
      },
      "id": "4RdPCttcsFyi",
      "execution_count": null,
      "outputs": []
    },
    {
      "cell_type": "code",
      "source": [
        "# forma 3\n",
        "df.loc[:, 'ESTADO']"
      ],
      "metadata": {
        "id": "JicOrgFRrxMO"
      },
      "id": "JicOrgFRrxMO",
      "execution_count": null,
      "outputs": []
    },
    {
      "cell_type": "markdown",
      "source": [
        "### Exercício: Como selecionar a coluna **DATA INICIAL**?"
      ],
      "metadata": {
        "id": "5-KKsyVfs0FJ"
      },
      "id": "5-KKsyVfs0FJ"
    },
    {
      "cell_type": "code",
      "source": [
        "df.head()"
      ],
      "metadata": {
        "id": "CthCW3SgG5O6"
      },
      "id": "CthCW3SgG5O6",
      "execution_count": null,
      "outputs": []
    },
    {
      "cell_type": "code",
      "source": [
        "df['DATA INICIAL']"
      ],
      "metadata": {
        "id": "58d-TkJbs5db"
      },
      "id": "58d-TkJbs5db",
      "execution_count": null,
      "outputs": []
    },
    {
      "cell_type": "code",
      "source": [
        "df.loc[:, 'DATA INICIAL']"
      ],
      "metadata": {
        "id": "Mn1sFWO2s867"
      },
      "id": "Mn1sFWO2s867",
      "execution_count": null,
      "outputs": []
    },
    {
      "cell_type": "code",
      "source": [
        "#df.DATA INICIAL # não funciona"
      ],
      "metadata": {
        "id": "-2VR81zns-sK"
      },
      "id": "-2VR81zns-sK",
      "execution_count": null,
      "outputs": []
    },
    {
      "cell_type": "markdown",
      "source": [
        "### 1.6 Removendo um Atributo (Coluna) do Data Frame"
      ],
      "metadata": {
        "id": "9tA3RHHWtS4P"
      },
      "id": "9tA3RHHWtS4P"
    },
    {
      "cell_type": "code",
      "source": [
        "df.head()"
      ],
      "metadata": {
        "id": "G6-MH2qmtTsK"
      },
      "id": "G6-MH2qmtTsK",
      "execution_count": null,
      "outputs": []
    },
    {
      "cell_type": "code",
      "source": [
        "del df['coluna sem nocao']"
      ],
      "metadata": {
        "id": "67sFDvtUtW7R"
      },
      "id": "67sFDvtUtW7R",
      "execution_count": null,
      "outputs": []
    },
    {
      "cell_type": "code",
      "source": [
        "df"
      ],
      "metadata": {
        "id": "4MN7-BldtopX"
      },
      "id": "4MN7-BldtopX",
      "execution_count": null,
      "outputs": []
    },
    {
      "cell_type": "markdown",
      "source": [
        "### Exercício: Como remover as colunas **coluna a partir de lista** e **PREÇO MÉDIO REVENDA (dólares)**?"
      ],
      "metadata": {
        "id": "YtAvL2MN21DN"
      },
      "id": "YtAvL2MN21DN"
    },
    {
      "cell_type": "code",
      "source": [
        "# del não funciona para excluir múltiplas colunas. Veremos como fazer isso mais para frente\n",
        "#del df[['coluna a partir de lista', 'PREÇO MÉDIO REVENDA (dólares)']]"
      ],
      "metadata": {
        "id": "Bw6LHc36tpSN"
      },
      "id": "Bw6LHc36tpSN",
      "execution_count": null,
      "outputs": []
    },
    {
      "cell_type": "code",
      "source": [
        "del df['coluna a partir de lista']\n",
        "del df['PREÇO MÉDIO REVENDA (dólares)']"
      ],
      "metadata": {
        "id": "VZl0No95JLgM"
      },
      "id": "VZl0No95JLgM",
      "execution_count": null,
      "outputs": []
    },
    {
      "cell_type": "markdown",
      "source": [
        "### 1.7 Salvando um Data Frame"
      ],
      "metadata": {
        "id": "zmHZANe7v7LO"
      },
      "id": "zmHZANe7v7LO"
    },
    {
      "cell_type": "markdown",
      "source": [
        "Para salvarmos um Data Frame para um **arquivo CSV**, basta usarmos o método `.to_csv`. <br/>\n",
        "Por padrão, esse método **salva os índices da tabela como uma coluna no CSV**.<br/>\n",
        "Como no geral tais índices são números de 0 a n-1, não há necessidade para isso.<br/>\n",
        "Desta forma, utilize o parâmetro: `index=False`.\n",
        "\n",
        "Por padrão, o método utilizará a ',' como separador das colunas. Caso queira alterá-lo, utilize o parâmetro `sep`."
      ],
      "metadata": {
        "id": "kaFpCD73wCJV"
      },
      "id": "kaFpCD73wCJV"
    },
    {
      "cell_type": "code",
      "source": [
        "df.to_csv('/content/2004-2021_preprocessado.csv', index=False)"
      ],
      "metadata": {
        "id": "XV5fQyTzv_H2"
      },
      "id": "XV5fQyTzv_H2",
      "execution_count": null,
      "outputs": []
    },
    {
      "cell_type": "code",
      "source": [
        "# importando o dataframe salvo na célula anterior\n",
        "meu_df = pd.read_csv('/content/2004-2021_preprocessado.csv')"
      ],
      "metadata": {
        "id": "NiCR9HedwnOE"
      },
      "id": "NiCR9HedwnOE",
      "execution_count": null,
      "outputs": []
    },
    {
      "cell_type": "code",
      "source": [
        "meu_df"
      ],
      "metadata": {
        "id": "kZkBeHgWwueu"
      },
      "id": "kZkBeHgWwueu",
      "execution_count": null,
      "outputs": []
    },
    {
      "cell_type": "markdown",
      "source": [
        "### 1.8 Seleção Condicional: Filtrando amostras"
      ],
      "metadata": {
        "id": "3GH5otPRxpKG"
      },
      "id": "3GH5otPRxpKG"
    },
    {
      "cell_type": "markdown",
      "source": [
        "Durante nossas análise exploratórias, frequentemente filtraremos nossas amostras, a partir de certas **condições**, para fins de análise mais específica. <br/>\n",
        "Existem algumas maneiras de fazermos tal filtragem. Antes disso, vamos carregar nosso dataset pré-processado que salvamos no item anterior."
      ],
      "metadata": {
        "id": "95ZKL6Ltxykw"
      },
      "id": "95ZKL6Ltxykw"
    },
    {
      "cell_type": "code",
      "source": [
        "meu_df.head()"
      ],
      "metadata": {
        "id": "fcdOIYnBx9BY"
      },
      "id": "fcdOIYnBx9BY",
      "execution_count": null,
      "outputs": []
    },
    {
      "cell_type": "code",
      "source": [
        "meu_df['ESTADO'].unique()"
      ],
      "metadata": {
        "id": "ibJvVP9hx95U"
      },
      "id": "ibJvVP9hx95U",
      "execution_count": null,
      "outputs": []
    },
    {
      "cell_type": "markdown",
      "source": [
        "#### **Selecionando apenas os preços dos Postos de São Paulo**"
      ],
      "metadata": {
        "id": "wc9WuqDUylH1"
      },
      "id": "wc9WuqDUylH1"
    },
    {
      "cell_type": "markdown",
      "source": [
        "==> Alternativa 1: Seleção Condicional (Comparações diretas)"
      ],
      "metadata": {
        "id": "sclU6mSXyoOH"
      },
      "id": "sclU6mSXyoOH"
    },
    {
      "cell_type": "markdown",
      "source": [
        "O código abaixo retorna uma Series ('array') de booleans, com o número de linhas (observações) do Data Frame, que informa os registros de preços dos postos do estado de São Paulo (True)."
      ],
      "metadata": {
        "id": "i3shiRbSyqvQ"
      },
      "id": "i3shiRbSyqvQ"
    },
    {
      "cell_type": "code",
      "source": [
        "meu_df"
      ],
      "metadata": {
        "id": "xJRVPy5uMJG8"
      },
      "id": "xJRVPy5uMJG8",
      "execution_count": null,
      "outputs": []
    },
    {
      "cell_type": "code",
      "source": [
        "# faz uma comparação elemento a elemento das series, retornando uma Series de booleans\n",
        "meu_df['ESTADO'] == 'SAO PAULO'"
      ],
      "metadata": {
        "id": "wBSih3-0yJLF"
      },
      "id": "wBSih3-0yJLF",
      "execution_count": null,
      "outputs": []
    },
    {
      "cell_type": "code",
      "source": [
        "# salvando essa Series de booleans em uma variável\n",
        "filtro1 = meu_df['ESTADO'] == 'SAO PAULO'"
      ],
      "metadata": {
        "id": "2_hBExpsy8LV"
      },
      "id": "2_hBExpsy8LV",
      "execution_count": null,
      "outputs": []
    },
    {
      "cell_type": "markdown",
      "source": [
        "Para filtrarmos os registros de postos do estado de São Paulo:"
      ],
      "metadata": {
        "id": "UF-_Z2TDzPUO"
      },
      "id": "UF-_Z2TDzPUO"
    },
    {
      "cell_type": "code",
      "source": [
        "meu_df[filtro1]"
      ],
      "metadata": {
        "id": "aPvPIC-3zHL3"
      },
      "id": "aPvPIC-3zHL3",
      "execution_count": null,
      "outputs": []
    },
    {
      "cell_type": "markdown",
      "source": [
        "O resultado é um Data Frame com apenas os registros desejados após a filtragem.\n",
        "Podemos ainda utilizar o método loc para o mesmo fim:"
      ],
      "metadata": {
        "id": "rT0lFcBWzZu9"
      },
      "id": "rT0lFcBWzZu9"
    },
    {
      "cell_type": "code",
      "source": [
        "meu_df.loc[filtro1]"
      ],
      "metadata": {
        "id": "yF6ADu2pzKvw"
      },
      "id": "yF6ADu2pzKvw",
      "execution_count": null,
      "outputs": []
    },
    {
      "cell_type": "markdown",
      "source": [
        "##### **==> Alternativa 2: Utilizando o método `query`**"
      ],
      "metadata": {
        "id": "5sszygVQztcU"
      },
      "id": "5sszygVQztcU"
    },
    {
      "cell_type": "markdown",
      "source": [
        "`query` filtra linhas de um DataFrame baseado em uma **query (pergunta)**."
      ],
      "metadata": {
        "id": "gyuzHzpUzxbm"
      },
      "id": "gyuzHzpUzxbm"
    },
    {
      "cell_type": "code",
      "source": [
        "meu_df.head()"
      ],
      "metadata": {
        "id": "xP0ipg5izfG0"
      },
      "id": "xP0ipg5izfG0",
      "execution_count": null,
      "outputs": []
    },
    {
      "cell_type": "code",
      "source": [
        "meu_df.query('ESTADO == \"SAO PAULO\"')"
      ],
      "metadata": {
        "id": "mFXDWy2Pz4pb"
      },
      "id": "mFXDWy2Pz4pb",
      "execution_count": null,
      "outputs": []
    },
    {
      "cell_type": "markdown",
      "source": [
        "<br/>\n",
        "\n",
        "Uma boa prática é **salvar o Data Frame filtrado em uma nova variável**. Isso simplifica a complexidade do código para futuras análises feitas para os postos de São Paulo (neste caso)."
      ],
      "metadata": {
        "id": "4Mprmz2y0CN1"
      },
      "id": "4Mprmz2y0CN1"
    },
    {
      "cell_type": "code",
      "source": [
        "postos_sp = meu_df.query('ESTADO == \"SAO PAULO\"')"
      ],
      "metadata": {
        "id": "tVC7OM4cz93E"
      },
      "id": "tVC7OM4cz93E",
      "execution_count": null,
      "outputs": []
    },
    {
      "cell_type": "code",
      "source": [
        "postos_sp"
      ],
      "metadata": {
        "id": "ufaYJAqs0OHf"
      },
      "id": "ufaYJAqs0OHf",
      "execution_count": null,
      "outputs": []
    },
    {
      "cell_type": "code",
      "source": [
        "type(postos_sp)"
      ],
      "metadata": {
        "id": "T91OLvxM0Rv6"
      },
      "id": "T91OLvxM0Rv6",
      "execution_count": null,
      "outputs": []
    },
    {
      "cell_type": "code",
      "source": [
        "postos_sp.shape"
      ],
      "metadata": {
        "id": "Fzu8BiJj0XID"
      },
      "id": "Fzu8BiJj0XID",
      "execution_count": null,
      "outputs": []
    },
    {
      "cell_type": "code",
      "source": [
        "# Exercício: salvar postos_sp em um arquivo CSV\n"
      ],
      "metadata": {
        "id": "PTB0vcA7OlAA"
      },
      "id": "PTB0vcA7OlAA",
      "execution_count": null,
      "outputs": []
    },
    {
      "cell_type": "code",
      "source": [
        "postos_sp"
      ],
      "metadata": {
        "id": "_a6hFbdnPIJL"
      },
      "id": "_a6hFbdnPIJL",
      "execution_count": null,
      "outputs": []
    },
    {
      "cell_type": "markdown",
      "source": [
        "#### Resetando os índices"
      ],
      "metadata": {
        "id": "vZSotKqq0exa"
      },
      "id": "vZSotKqq0exa"
    },
    {
      "cell_type": "markdown",
      "source": [
        "Note que os _índices das linhas/registros_ após a _filtragem_ **continuam sendo os mesmos** do DataFrame original. <br/>\n",
        "Em muitas situações, manter esta informação será importante.\n",
        "\n",
        "Mas, se você quiser **_resetar os índices_** do data frame filtrado, fazendo com que os registros começem com _índice 0 até num_linhas-1_, use o método `.reset_index`."
      ],
      "metadata": {
        "id": "w34lVlmc0jlp"
      },
      "id": "w34lVlmc0jlp"
    },
    {
      "cell_type": "code",
      "source": [
        "postos_sp.reset_index()"
      ],
      "metadata": {
        "id": "n4oIDiP90i1z"
      },
      "id": "n4oIDiP90i1z",
      "execution_count": null,
      "outputs": []
    },
    {
      "cell_type": "code",
      "source": [
        "postos_sp"
      ],
      "metadata": {
        "id": "XXEY_DdC06_w"
      },
      "id": "XXEY_DdC06_w",
      "execution_count": null,
      "outputs": []
    },
    {
      "cell_type": "code",
      "source": [
        "postos_sp.reset_index(drop=True, inplace=True)"
      ],
      "metadata": {
        "id": "I7UsfQki1DNr"
      },
      "id": "I7UsfQki1DNr",
      "execution_count": null,
      "outputs": []
    },
    {
      "cell_type": "code",
      "source": [
        "postos_sp"
      ],
      "metadata": {
        "id": "m9UcsfIi1G6X"
      },
      "id": "m9UcsfIi1G6X",
      "execution_count": null,
      "outputs": []
    },
    {
      "cell_type": "markdown",
      "source": [
        "#### **Selecionando registros de postos do Rio de Janeiro com Preços acima de 2 reais**"
      ],
      "metadata": {
        "id": "cgzAf3DX1nLO"
      },
      "id": "cgzAf3DX1nLO"
    },
    {
      "cell_type": "code",
      "source": [
        "filtro2 = (meu_df['ESTADO'] == 'RIO DE JANEIRO') & (meu_df['PREÇO MÉDIO REVENDA'] > 2)\n",
        "filtro2"
      ],
      "metadata": {
        "id": "UAwjtVbW1oIH"
      },
      "id": "UAwjtVbW1oIH",
      "execution_count": null,
      "outputs": []
    },
    {
      "cell_type": "code",
      "source": [
        "meu_df[filtro2]"
      ],
      "metadata": {
        "id": "JNXR3VbmAP5o"
      },
      "id": "JNXR3VbmAP5o",
      "execution_count": null,
      "outputs": []
    },
    {
      "cell_type": "markdown",
      "source": [
        "Note que o resultado da seleção continua sendo uma _Series de booleans_ com o _mesmo número de linhas/observações do DataFrame_, de modo que cada linha possuirá um valor booleano indicando se o posto é do Rio de Janeiro **E** o preço aferido do combustível é maior que 2 reais (True) ou não.\n",
        "\n",
        "O símbolo **&** significa **AND** na comparação. Essa nomenclatura do python/pandas é diferente das nomenclaturas tradicionais (&&). <br/>\n",
        "Similarmente:\n",
        "- **|** representa o **OR** (não é ||)\n",
        "- **~** representa o **NOT** (não é !)"
      ],
      "metadata": {
        "id": "vdEf1o5A11Oj"
      },
      "id": "vdEf1o5A11Oj"
    },
    {
      "cell_type": "markdown",
      "source": [
        "Alternativamente, poderíamos usar o método `query` para fazermos tal seleção. Porém, isso não é possível especificamente para esse caso, pois o rótulo da coluna 'PREÇO MÉDIO REVENDA' possui caracteres inválidos para o método (espaço, cedilha, acentos)."
      ],
      "metadata": {
        "id": "_I63ajiuBsHb"
      },
      "id": "_I63ajiuBsHb"
    },
    {
      "cell_type": "code",
      "source": [
        "# Não funciona\n",
        "#data.query('ESTADO==\"RIO DE JANEIRO\" and PREÇO MÉDIO REVENDA > 2')"
      ],
      "metadata": {
        "id": "kXIzFNXdBYu4"
      },
      "id": "kXIzFNXdBYu4",
      "execution_count": null,
      "outputs": []
    },
    {
      "cell_type": "code",
      "source": [
        "#meu_df.query('ESTADO == \"RIO DE JANEIRO\" or ESTADO == \"SAO PAULO\"')"
      ],
      "metadata": {
        "id": "YOPdh_vB1vIA"
      },
      "id": "YOPdh_vB1vIA",
      "execution_count": null,
      "outputs": []
    },
    {
      "cell_type": "code",
      "source": [
        "meu_df.head()"
      ],
      "metadata": {
        "id": "Bq9DojC_FTdF"
      },
      "id": "Bq9DojC_FTdF",
      "execution_count": null,
      "outputs": []
    },
    {
      "cell_type": "markdown",
      "source": [
        "## Exercício (Valendo Presença - 29/03/2025)\n",
        "Crie um novo notebook e salve com o seu nome (ex: joao_silva.ipynb). Em seguida, realize os itens abaixo com base no dataset 2004-2021.tsv.\n",
        "\n",
        "**a.** Quais são os nomes dos estados presentes no DataFrame? Dica: Veja a seção 1.8\n",
        "\n",
        "**b.** Quais tipos de combustíveis estão presentes no DataFrame?\n",
        "\n",
        "**c.** Você percebeu algum tipo de problema nos valores encontrados nos itens (a) e (b)?\n",
        "\n",
        "**d.** Selecione os registros de postos de São Paulo ou Santa Catarina com preço médio de revenda do Etanol acima de R$2,15.\n",
        "\n",
        "**e.** Quantos registros existem na seleção realizada no item (d)?\n",
        "\n",
        "**f.** Salve os registro do item anterior em um arquivo CSV com o nome **minha_pesquisa**. Dica: Veja seção 1.7\n",
        "\n",
        "**g.** Envie seu arquivo .ipynb no Moodle até o final da aula.\n",
        "\n",
        "\n"
      ],
      "metadata": {
        "id": "Q1vblQnmDWKX"
      },
      "id": "Q1vblQnmDWKX"
    },
    {
      "cell_type": "markdown",
      "source": [
        "## 2. Limpeza dos dados"
      ],
      "metadata": {
        "id": "bgMTtzBJSG0M"
      },
      "id": "bgMTtzBJSG0M"
    },
    {
      "cell_type": "code",
      "source": [
        "df = pd.read_csv('/content/2004-2021.tsv', sep='\\t')"
      ],
      "metadata": {
        "id": "LnN_7hhqSRAj"
      },
      "id": "LnN_7hhqSRAj",
      "execution_count": null,
      "outputs": []
    },
    {
      "cell_type": "code",
      "source": [
        "df.head()"
      ],
      "metadata": {
        "id": "5V8lMYTxSciu"
      },
      "id": "5V8lMYTxSciu",
      "execution_count": null,
      "outputs": []
    },
    {
      "cell_type": "markdown",
      "source": [
        "### 2.1 Tratando observações com valores vazios (null / nan) no dataset"
      ],
      "metadata": {
        "id": "FPY8sdEIUIx1"
      },
      "id": "FPY8sdEIUIx1"
    },
    {
      "cell_type": "code",
      "source": [],
      "metadata": {
        "id": "V0_eSeKFSh8y"
      },
      "id": "V0_eSeKFSh8y",
      "execution_count": null,
      "outputs": []
    },
    {
      "cell_type": "markdown",
      "source": [
        "De um total de 120823 observações, **não há valores null / nan** para nenhum atributo. Mas, veremos que não é bem assim neste caso específico.<br/><br/>"
      ],
      "metadata": {
        "id": "NygiVyTFTo10"
      },
      "id": "NygiVyTFTo10"
    },
    {
      "cell_type": "markdown",
      "source": [
        "### 2.2 Conversão de tipos de atributos"
      ],
      "metadata": {
        "id": "Lj8dTnP0ULBZ"
      },
      "id": "Lj8dTnP0ULBZ"
    },
    {
      "cell_type": "markdown",
      "source": [
        "O pandas automaticamente reconhece os tipos de dados de cada coluna. <br/>\n",
        "Porém, existem alguns atributos que estão com seus tipos errados: Por exemplo: \"PREÇO MÉDIO DISTRIBUIÇÃO\" deveria ser ```float64``` e não ```object```.<br/>\n",
        "Nestes casos, muito provavelmente alguns registros têm uma string ao invés de um número para tais atributos. <br/>\n",
        "\n",
        "Os atributos **\"DATA INICIAL\"** e **\"DATA FINAL\"** deveriam ser do tipo `datetime`."
      ],
      "metadata": {
        "id": "krHzqHbzUT8y"
      },
      "id": "krHzqHbzUT8y"
    },
    {
      "cell_type": "code",
      "source": [],
      "metadata": {
        "id": "SuYlbBl3UUjB"
      },
      "id": "SuYlbBl3UUjB",
      "execution_count": null,
      "outputs": []
    },
    {
      "cell_type": "markdown",
      "source": [
        "#### **Datas**\n",
        "Como os atributos de data do dataset já estão em um formato de data aceitável (YYYY-MM-DD), não precisamos forçar nenhuma conversão nesse sentido."
      ],
      "metadata": {
        "id": "n2a4GQydU8Ki"
      },
      "id": "n2a4GQydU8Ki"
    },
    {
      "cell_type": "code",
      "source": [
        "??? = pd.to_datetime(data_pre['DATA INICIAL'])\n",
        "??? = pd.to_datetime(data_pre['DATA FINAL'])"
      ],
      "metadata": {
        "id": "Qu4Y_UVDVDAj"
      },
      "id": "Qu4Y_UVDVDAj",
      "execution_count": null,
      "outputs": []
    },
    {
      "cell_type": "code",
      "source": [],
      "metadata": {
        "id": "F5baZiFwVEYr"
      },
      "id": "F5baZiFwVEYr",
      "execution_count": null,
      "outputs": []
    },
    {
      "cell_type": "markdown",
      "source": [
        "#### **Dados Numéricos**"
      ],
      "metadata": {
        "id": "V5vvQ0eNWhBK"
      },
      "id": "V5vvQ0eNWhBK"
    },
    {
      "cell_type": "code",
      "source": [
        "# convertendo atributos/colunas para 'numeric'\n",
        "# https://pandas.pydata.org/docs/reference/api/pandas.to_numeric.html\n",
        "lista = []\n",
        "for atributo in lista:\n",
        "    # converte a coluna (de valores string) para um tipo numérico\n",
        "    # Em caso de erro na conversão (p. ex., uma string que não representa um número), um valor vazio (null / nan) será\n",
        "    # atribuído no lugar\n",
        "    ??? = pd.to_numeric(data_pre[atributo], errors='coerce')"
      ],
      "metadata": {
        "id": "Um7UDlMFWhgm"
      },
      "id": "Um7UDlMFWhgm",
      "execution_count": null,
      "outputs": []
    },
    {
      "cell_type": "code",
      "source": [
        "data_pre.info()"
      ],
      "metadata": {
        "id": "YO3oYAHFXW4R"
      },
      "id": "YO3oYAHFXW4R",
      "execution_count": null,
      "outputs": []
    },
    {
      "cell_type": "markdown",
      "source": [
        "Note que temos vários valores ***null*** agora **após a *conversão de tipos***. Vamos checá-los com mais cuidado nos dados originais e preprocessados."
      ],
      "metadata": {
        "id": "VoPpEYJqX7Ns"
      },
      "id": "VoPpEYJqX7Ns"
    },
    {
      "cell_type": "markdown",
      "source": [
        "### 2.3 Limpeza de dados"
      ],
      "metadata": {
        "id": "b465pjeOYBR7"
      },
      "id": "b465pjeOYBR7"
    },
    {
      "cell_type": "code",
      "source": [],
      "metadata": {
        "id": "drjLAp0JYCD7"
      },
      "id": "drjLAp0JYCD7",
      "execution_count": null,
      "outputs": []
    },
    {
      "cell_type": "code",
      "source": [],
      "metadata": {
        "id": "TWlPgaB3YHqq"
      },
      "id": "TWlPgaB3YHqq",
      "execution_count": null,
      "outputs": []
    },
    {
      "cell_type": "code",
      "source": [
        "# Nos dados originais, quais eram os valores do PREÇO MÉDIO DISTRIBUIÇÃO dos registros que agora possuem valores NaN\n",
        "df[mask]"
      ],
      "metadata": {
        "id": "XV23zVHHYN5L"
      },
      "id": "XV23zVHHYN5L",
      "execution_count": null,
      "outputs": []
    },
    {
      "cell_type": "markdown",
      "source": [
        "Várias amostras possuem a _string '-'_ em algumas colunas ao invés de um número de fato. Ou seja, não há aferições destes atributos para estas amostras. <br/>\n",
        "\n",
        "<br/>\n",
        "\n",
        "Poderíamos **preencher os valores NaN com um valor padrão**. Para isso, basta usar o método `.fillna`."
      ],
      "metadata": {
        "id": "HsMO-AixYed0"
      },
      "id": "HsMO-AixYed0"
    },
    {
      "cell_type": "code",
      "source": [
        "# Retorna uma cópia do data frame `data_pre` com todos os valores NaN de todas as colunas agora preenchidos com 0.\n",
        "???"
      ],
      "metadata": {
        "id": "CFfjTIqyYe9W"
      },
      "id": "CFfjTIqyYe9W",
      "execution_count": null,
      "outputs": []
    },
    {
      "cell_type": "code",
      "source": [
        "# valores que antes eram NaN, agora são 0\n",
        "data_pre_fill[mask]"
      ],
      "metadata": {
        "id": "TWtZ4r8eba4B"
      },
      "id": "TWtZ4r8eba4B",
      "execution_count": null,
      "outputs": []
    },
    {
      "cell_type": "code",
      "source": [
        "data_pre_fill.info()"
      ],
      "metadata": {
        "id": "l4kW2kgibTGn"
      },
      "id": "l4kW2kgibTGn",
      "execution_count": null,
      "outputs": []
    },
    {
      "cell_type": "markdown",
      "source": [
        "Por mais que a função `fillna` seja interessante e útil em muitos casos, no problema em questão estamos interessados em analisar precisamente, p. ex., o **'PREÇO MÉDIO REVENDA'**.<br/>\n",
        "A fim de não termos valores _sintéticos_ gerados pelo `fillna`, que possam atrapalhar nossa análise, iremos **remover (drop) todas as amostras que possuem qualquer valor NaN** para quaisquer atributos/colunas. <br/>\n",
        "\n",
        "Para isso, basta utilizarmos o método `dropna`."
      ],
      "metadata": {
        "id": "z95bdVUDcTKB"
      },
      "id": "z95bdVUDcTKB"
    },
    {
      "cell_type": "code",
      "source": [
        "# remove, no próprio dataframe, todas as linhas/registros com valores NaN (vazios) em quaisquer colunas/atributos.\n",
        "???"
      ],
      "metadata": {
        "id": "Jq6V_mIdbWho"
      },
      "id": "Jq6V_mIdbWho",
      "execution_count": null,
      "outputs": []
    },
    {
      "cell_type": "code",
      "source": [],
      "metadata": {
        "id": "-j1JrKCxcbqC"
      },
      "id": "-j1JrKCxcbqC",
      "execution_count": null,
      "outputs": []
    },
    {
      "cell_type": "markdown",
      "source": [
        "Nosso data frame agora, após essa _limpeza_, ficou mais enxuto, contentdo 117392 registros frente aos 120823 registros originais. <br/>\n",
        "\n",
        "Essas são apenas algumas das possíveis _técnicas de limpeza de dados_. Outras estratégias mais sofisticadas não veremos neste curso."
      ],
      "metadata": {
        "id": "RpFnSkcYcihz"
      },
      "id": "RpFnSkcYcihz"
    },
    {
      "cell_type": "markdown",
      "source": [
        "#### **Salvando o Dataset Preprocessado**"
      ],
      "metadata": {
        "id": "fij2UUaEc-GJ"
      },
      "id": "fij2UUaEc-GJ"
    },
    {
      "cell_type": "code",
      "source": [
        "data_pre.to_csv('2004-2021_preprocessado_final.csv', index=False)"
      ],
      "metadata": {
        "id": "cV-eAJXudCgj"
      },
      "id": "cV-eAJXudCgj",
      "execution_count": null,
      "outputs": []
    },
    {
      "cell_type": "markdown",
      "source": [
        "# 📝 Exercício (Valendo Presença – 12/04/2025)\n",
        "\n",
        "Crie um novo notebook no Google Colab (ou Jupyter) e salve com **seu nome e a data** no nome do arquivo, seguindo o modelo:  \n",
        "`seu_nome_12_abril.ipynb`  \n",
        "*(exemplo: `joao_silva_12_abril.ipynb`)*\n",
        "\n",
        "Em seguida, realize os itens abaixo utilizando o dataset **2004-2021.tsv**.\n",
        "\n",
        "---\n",
        "\n",
        "## a. Importação\n",
        "Importe o arquivo **2004-2021.tsv** e salve-o em um DataFrame chamado `df`.  \n",
        "**Dica**: Veja a seção 1.1 sobre importação de dados com separador TAB.\n",
        "\n",
        "---\n",
        "\n",
        "## b. Estados presentes\n",
        "Quais são os nomes dos estados presentes no DataFrame?  \n",
        "**Dica**: Veja a seção 1.8 sobre valores únicos.\n",
        "\n",
        "---\n",
        "\n",
        "## c. Filtragem por estado\n",
        "Escolha um estado e crie um novo DataFrame apenas com os registros desse estado.  \n",
        "Dê a esse DataFrame um nome apropriado, como `df_RJ` se você escolher o Rio de Janeiro.  \n",
        "**Dica**: Veja a seção 1.8 sobre filtragem de dados.\n",
        "\n",
        "---\n",
        "\n",
        "## d. Contagem de registros\n",
        "Quantas linhas existem no DataFrame criado no item (c)?\n",
        "\n",
        "---\n",
        "\n",
        "## e. Conversão de datas\n",
        "Converta as colunas **\"DATA INICIAL\"** e **\"DATA FINAL\"** para o tipo `datetime`.  \n",
        "**Dica**: Veja a seção 2.2 sobre conversão de datas.\n",
        "\n",
        "---\n",
        "\n",
        "## f. Conversão numérica\n",
        "Converta para tipo numérico as colunas que representam preços, como:  \n",
        "`PREÇO MÉDIO`, `PREÇO MÍNIMO`, `PREÇO MÁXIMO`, `PREÇO DE VENDA`, entre outras.  \n",
        "**Dica**: Veja a seção 2.2 sobre conversão de tipos.\n",
        "\n",
        "---\n",
        "\n",
        "## g. Valores ausentes\n",
        "Após a conversão, quantos valores ausentes (**null/NaN**) existem no DataFrame?\n",
        "\n",
        "---\n",
        "\n",
        "## h. Remoção de linhas com NaN\n",
        "Elimine todas as linhas que contenham **valores ausentes (null/NaN)** em qualquer coluna.  \n",
        "**Dica**: Veja a seção 2.3 sobre remoção de dados faltantes.\n",
        "\n",
        "---\n",
        "\n",
        "## i. Exportação do resultado\n",
        "Salve o DataFrame final do item (h) em um novo arquivo CSV chamado:  \n",
        "`minha_pesquisa_12_abril.csv`  \n",
        "**Dica**: Veja a seção 1.7 sobre exportação de arquivos.\n",
        "\n",
        "---\n",
        "\n",
        "## j. Entrega\n",
        "Envie o arquivo `.ipynb` (do notebook) no Moodle até o final da aula."
      ],
      "metadata": {
        "id": "REDdYhp95yc8"
      },
      "id": "REDdYhp95yc8"
    },
    {
      "cell_type": "markdown",
      "source": [
        "<h2>3. Estatísticas Descritivas</h2>\n",
        "<hr/>"
      ],
      "metadata": {
        "id": "QAi7NS5Aq2rg"
      },
      "id": "QAi7NS5Aq2rg"
    },
    {
      "cell_type": "code",
      "source": [
        "data_final = pd.read_csv('/content/2004-2021_preprocessado_final.csv')"
      ],
      "metadata": {
        "id": "Jh65cyrrrU52"
      },
      "execution_count": null,
      "outputs": [],
      "id": "Jh65cyrrrU52"
    },
    {
      "cell_type": "code",
      "execution_count": null,
      "metadata": {
        "id": "actual-closing"
      },
      "outputs": [],
      "source": [
        "data_final.head()"
      ],
      "id": "actual-closing"
    },
    {
      "cell_type": "markdown",
      "metadata": {
        "id": "exempt-spine"
      },
      "source": [
        "O Pandas fornecem algumas funções/métodos que computam certas estatísticas descritivas."
      ],
      "id": "exempt-spine"
    },
    {
      "cell_type": "markdown",
      "metadata": {
        "id": "lovely-excess"
      },
      "source": [
        "`describe`: exibe várias **estatísticas descritivas** para os _atributos_ de um dataframe ou para uma _Series_."
      ],
      "id": "lovely-excess"
    },
    {
      "cell_type": "code",
      "execution_count": null,
      "metadata": {
        "id": "global-techno"
      },
      "outputs": [],
      "source": [],
      "id": "global-techno"
    },
    {
      "cell_type": "code",
      "execution_count": null,
      "metadata": {
        "id": "recent-nirvana"
      },
      "outputs": [],
      "source": [],
      "id": "recent-nirvana"
    },
    {
      "cell_type": "markdown",
      "metadata": {
        "id": "subtle-luxembourg"
      },
      "source": [
        "<br/>\n",
        "\n",
        "Como o resultado do `describe` de um _dataframe_ é outro _dataframe_, podemos filtrar apenas algumas colunas."
      ],
      "id": "subtle-luxembourg"
    },
    {
      "cell_type": "code",
      "execution_count": null,
      "metadata": {
        "id": "champion-status"
      },
      "outputs": [],
      "source": [],
      "id": "champion-status"
    },
    {
      "cell_type": "code",
      "execution_count": null,
      "metadata": {
        "id": "emerging-circus"
      },
      "outputs": [],
      "source": [],
      "id": "emerging-circus"
    },
    {
      "cell_type": "code",
      "execution_count": null,
      "metadata": {
        "id": "historic-keeping"
      },
      "outputs": [],
      "source": [],
      "id": "historic-keeping"
    },
    {
      "cell_type": "markdown",
      "metadata": {
        "id": "divine-details"
      },
      "source": [
        "**Acessando apenas algumas estatísticas**"
      ],
      "id": "divine-details"
    },
    {
      "cell_type": "code",
      "execution_count": null,
      "metadata": {
        "id": "fatty-homework"
      },
      "outputs": [],
      "source": [],
      "id": "fatty-homework"
    },
    {
      "cell_type": "code",
      "execution_count": null,
      "metadata": {
        "id": "complex-layer"
      },
      "outputs": [],
      "source": [],
      "id": "complex-layer"
    },
    {
      "cell_type": "code",
      "execution_count": null,
      "metadata": {
        "id": "hourly-armenia"
      },
      "outputs": [],
      "source": [],
      "id": "hourly-armenia"
    },
    {
      "cell_type": "code",
      "execution_count": null,
      "metadata": {
        "id": "light-diesel"
      },
      "outputs": [],
      "source": [],
      "id": "light-diesel"
    },
    {
      "cell_type": "markdown",
      "metadata": {
        "id": "suspended-philadelphia"
      },
      "source": [
        "<br/>\n",
        "\n",
        "`mean`, `std`, `min`, etc: cada uma das estatísticas do `describe` podem ser computadas individualmente:"
      ],
      "id": "suspended-philadelphia"
    },
    {
      "cell_type": "code",
      "execution_count": null,
      "metadata": {
        "id": "sunrise-background"
      },
      "outputs": [],
      "source": [],
      "id": "sunrise-background"
    },
    {
      "cell_type": "markdown",
      "metadata": {
        "id": "paperback-things"
      },
      "source": [
        "#### Qual é o menor preço mínimo de revenda?"
      ],
      "id": "paperback-things"
    },
    {
      "cell_type": "code",
      "execution_count": null,
      "metadata": {
        "id": "hearing-stress"
      },
      "outputs": [],
      "source": [],
      "id": "hearing-stress"
    },
    {
      "cell_type": "markdown",
      "metadata": {
        "id": "wrapped-priority"
      },
      "source": [
        "#### Qual é a média e desvio padrão dos preços mínimos de revenda?"
      ],
      "id": "wrapped-priority"
    },
    {
      "cell_type": "code",
      "execution_count": null,
      "metadata": {
        "id": "expensive-prospect"
      },
      "outputs": [],
      "source": [],
      "id": "expensive-prospect"
    },
    {
      "cell_type": "markdown",
      "metadata": {
        "id": "exempt-furniture"
      },
      "source": [
        "#### Quais são os estados considerados?"
      ],
      "id": "exempt-furniture"
    },
    {
      "cell_type": "code",
      "execution_count": null,
      "metadata": {
        "id": "neural-greece"
      },
      "outputs": [],
      "source": [],
      "id": "neural-greece"
    },
    {
      "cell_type": "code",
      "execution_count": null,
      "metadata": {
        "id": "bound-stuart"
      },
      "outputs": [],
      "source": [],
      "id": "bound-stuart"
    },
    {
      "cell_type": "code",
      "execution_count": null,
      "metadata": {
        "id": "organizational-fairy"
      },
      "outputs": [],
      "source": [],
      "id": "organizational-fairy"
    },
    {
      "cell_type": "markdown",
      "metadata": {
        "id": "painful-credit"
      },
      "source": [
        "#### Quantos registros (aferições) cada estado possui?"
      ],
      "id": "painful-credit"
    },
    {
      "cell_type": "markdown",
      "metadata": {
        "id": "accessory-graphics"
      },
      "source": [
        "`.value_counts()`:  Conta a frequência dos valores de uma dada variável (de preferência, _categórica_)."
      ],
      "id": "accessory-graphics"
    },
    {
      "cell_type": "code",
      "execution_count": null,
      "metadata": {
        "id": "skilled-package"
      },
      "outputs": [],
      "source": [],
      "id": "skilled-package"
    },
    {
      "cell_type": "code",
      "execution_count": null,
      "metadata": {
        "id": "cutting-party"
      },
      "outputs": [],
      "source": [],
      "id": "cutting-party"
    }
  ],
  "metadata": {
    "kernelspec": {
      "display_name": "Python 3",
      "language": "python",
      "name": "python3"
    },
    "language_info": {
      "codemirror_mode": {
        "name": "ipython",
        "version": 3
      },
      "file_extension": ".py",
      "mimetype": "text/x-python",
      "name": "python",
      "nbconvert_exporter": "python",
      "pygments_lexer": "ipython3",
      "version": "3.8.5"
    },
    "colab": {
      "provenance": [],
      "include_colab_link": true
    }
  },
  "nbformat": 4,
  "nbformat_minor": 5
}